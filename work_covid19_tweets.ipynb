{
  "nbformat": 4,
  "nbformat_minor": 0,
  "metadata": {
    "colab": {
      "name": "work_covid19_tweets.ipynb",
      "provenance": [],
      "collapsed_sections": [],
      "include_colab_link": true
    },
    "kernelspec": {
      "name": "python3",
      "display_name": "Python 3"
    }
  },
  "cells": [
    {
      "cell_type": "markdown",
      "metadata": {
        "id": "view-in-github",
        "colab_type": "text"
      },
      "source": [
        "<a href=\"https://colab.research.google.com/github/patricktapajos/gitcompare/blob/master/work_covid19_tweets.ipynb\" target=\"_parent\"><img src=\"https://colab.research.google.com/assets/colab-badge.svg\" alt=\"Open In Colab\"/></a>"
      ]
    },
    {
      "cell_type": "markdown",
      "metadata": {
        "id": "ZkwLxB-slHUu"
      },
      "source": [
        "# **Análise de tweets brasileiros sobre a COVID-19**\n"
      ]
    },
    {
      "cell_type": "markdown",
      "metadata": {
        "id": "Q_FdnigXk7OG"
      },
      "source": [
        "# Apresentação\n",
        "\n",
        "> ### Resumo\n",
        "Este documento tem o objetivo de apresentar uma análise exploratória de tweets gerados por brasileiros, e que envolvem o tema COVID-19, para extrair e visualizar informações úteis com o intuito de compreender as principais dúvidas das pessoas sobre esta pandemia.\n",
        "\n",
        "> ### Autores\n",
        "Alunos de pós-graduação em Ciência de Dados da Universidade do Estado do Amazonas:\n",
        "1.   [Patrick Tapajós Pinto](https://www.linkedin.com/in/patrick-tapajos-pinto/)\n",
        "2.   [Wladimir Barroso Guedes de Araújo Neto](https://www.linkedin.com/in/wladneto/)\n",
        "\n",
        "> ### Ferramentas Utilizadas\n",
        "A análise será efetuada utilizando-se a linguagem de programação python e suas bibliotecas para análise e processamento de dados **Pandas** e **NumPy**, bem como as bibliotecas **Matplotlib** e **Seaborn** para visualização de dados.\n"
      ]
    },
    {
      "cell_type": "markdown",
      "metadata": {
        "id": "g5ZmOLuJxSwu"
      },
      "source": [
        "# Introdução\n",
        "\n",
        "><div align=\"justify\">\n",
        "O surto do COVID-19 na China foi noticiado em dezembro de 2019. A Organização Mundial de Saúde (OMS) declarou estado de emergência devido ao rápido espalhamento do vírus no mundo. Na América Latina, o Brasil é o país mais afetado pela doença. De acordo com o relatório pela OMS, houve o registro de 347,398 casos de infectados e de 22,013 mortes no Brasil.\n",
        "<br>\n",
        "Devido à rápida propagação da doença no mundo, as plataformas de mídias sociais como Twitter, Facebook e Instagram tornaram-se locais onde ocorre uma intensa e contínua troca de informações entre órgãos governamentais, profissionais da área de saúde e o público em geral.\n",
        "Um representativo número de estudos científicos têm mostrado que as mídias sociais podem desempenhar um papel importante como fonte de dados para análise de crises e também para entender atitudes e comportamentos das pessoas durante uma pandemia.\n",
        "<br>\n",
        "Com o objetivo de auxiliar o monitoramento da saúde pública e também para dar suporte a tomada de decisão de profissionais, diversos sistemas de monitoramento são desenvolvidos para classificar grandes quantidades de dados oriundos das mídias sociais. Estes dados podem ser\n",
        "empregados para identificar rapidamente os pensamentos, atitudes, sentimentos e tópicos que ocupam as mentes das pessoas em relação à pandemia do COVID-19. A análise sistemática desses dados pode ajudar os governantes, profissionais da saúde e o público em geral a identificar\n",
        "questões que mais lhes interessam e tratá-las de maneira mais apropriada.\n",
        "<br>\n",
        "Dentre as plataformas de mídias sociais, o Twitter é uma das mais populares. De acordo com, existe aproximadamente 200 milhões de usuários registrados nesta plataforma e que publicam mais de 500 milhões de tuítes diariamente. Portanto, pode-se aproveitar desse alto volume e troca frequente de informações para se conhecer as dúvidas sobre determinadas doenças. Como exemplo de importância desta plataforma em situações de crise, a atual pandemia de COVID-19 foi primeiro comunicada para a populacão na China através do site Weibo, que é o correspondente ao Twitter na China, antes mesmo do pronunciamento oficial das autoridades locais. Recentemente, existe um grande interesse de pesquisadores investigando o uso do Twitter para pesquisas relacionadas à saúde pública.\n",
        "</div>\n"
      ]
    },
    {
      "cell_type": "markdown",
      "metadata": {
        "id": "RerTz3HTxyUf"
      },
      "source": [
        "# Coleta de Dados\n",
        "> Os dados foram coletados e disponibilizados pelo Prof. Dr. Tiago de Melo e contém cerca de 1.7 milhões de tweets coletados durante o primeiro semestre de 2020.\n",
        "<br>\n",
        "<br>\n",
        "Link para download dos dados: http://tiagodemelo.info/datasets/dados-curso-completo.csv.tar.gz. "
      ]
    },
    {
      "cell_type": "markdown",
      "metadata": {
        "id": "deH_46Dk2g-q"
      },
      "source": [
        "# Preparação: Importações e funções utilizadas"
      ]
    },
    {
      "cell_type": "code",
      "metadata": {
        "id": "kIOEC6SIQsJQ"
      },
      "source": [
        "# Importação das bibliotecas necessárias para a análise e visualização de dados\n",
        "import pandas as pd\n",
        "import seaborn as sns\n",
        "import matplotlib.pyplot as plt\n",
        "\n",
        "# Conjunto de bibliotecas e programas para processamento simbólico e estatístico de linguagem natural \n",
        "import nltk\n",
        "\n",
        "# Magic word, faz com que os gráficos sejam mostrados diretamente no notebook\n",
        "%matplotlib inline\n",
        "\n",
        "# Download de módulo necessário para gerar WordCloud\n",
        "nltk.download('stopwords')\n",
        "nltk.download('punkt')"
      ],
      "execution_count": null,
      "outputs": []
    },
    {
      "cell_type": "code",
      "metadata": {
        "id": "HIp_rVoK6BEH",
        "outputId": "0fe2ffd1-48d1-4d5b-fdf6-66573cf2a060",
        "colab": {
          "base_uri": "https://localhost:8080/",
          "height": 34
        }
      },
      "source": [
        "# Montagem de drive para carregamento de dataset\n",
        "from google.colab import drive\n",
        "drive.mount('/content/drive')"
      ],
      "execution_count": null,
      "outputs": [
        {
          "output_type": "stream",
          "text": [
            "Mounted at /content/drive\n"
          ],
          "name": "stdout"
        }
      ]
    },
    {
      "cell_type": "code",
      "metadata": {
        "id": "tzt1R87qExpX"
      },
      "source": [
        "# Funções para geração de WordCloud com rápida visualização dos termos encontrados nos tweets (e por diversão :)) \n",
        "\n",
        "# Importação de libs necessárias\n",
        "from nltk.corpus import stopwords\n",
        "from nltk.tokenize import word_tokenize\n",
        "from wordcloud import WordCloud\n",
        "\n",
        "# Carregando as stopwords do idioma português\n",
        "sw_br = stopwords.words('portuguese');\n",
        "\n",
        "# Função para exclusão de stopwords e geração de lista com os termos encontrados\n",
        "def gen_words(text_list):\n",
        "  words = []\n",
        "  for s in text_list:\n",
        "    for p in s.lower().split():\n",
        "      if p not in sw_br:\n",
        "        words.append(p)\n",
        "  words = str(words)\n",
        "  return words\n",
        "\n",
        "# Função para exibir a imagem com as palavras\n",
        "def gen_img_word_cloud(text_list):\n",
        "  wordcloud = WordCloud(width=1000, height=500, margin=0).generate(gen_words(text_list))\n",
        "  plt.figure(figsize=(20, 11))\n",
        "  plt.imshow(wordcloud, interpolation='bilinear')\n",
        "  plt.axis('off')\n",
        "  plt.margins(x=0, y=0)\n"
      ],
      "execution_count": null,
      "outputs": []
    },
    {
      "cell_type": "markdown",
      "metadata": {
        "id": "WXt5TMPGMGRn"
      },
      "source": [
        "# Visão Geral dos Dados"
      ]
    },
    {
      "cell_type": "markdown",
      "metadata": {
        "id": "6FdRDG_y6K2R"
      },
      "source": [
        "Vamos efetuar o carregamento do dataset através do método read_csv, bastando informar o local do arquivo que contém os dados. "
      ]
    },
    {
      "cell_type": "code",
      "metadata": {
        "id": "UEekPGslsQPt",
        "outputId": "e50b4a74-b274-4dcd-a782-9da184c29554",
        "colab": {
          "base_uri": "https://localhost:8080/",
          "height": 586
        }
      },
      "source": [
        "# Dados brutos da fonte\n",
        "raw_data = pd.read_csv('/content/drive/Shared drives/pgds_dataset/covid19-tweets.csv')\n",
        "raw_data"
      ],
      "execution_count": null,
      "outputs": [
        {
          "output_type": "execute_result",
          "data": {
            "text/html": [
              "<div>\n",
              "<style scoped>\n",
              "    .dataframe tbody tr th:only-of-type {\n",
              "        vertical-align: middle;\n",
              "    }\n",
              "\n",
              "    .dataframe tbody tr th {\n",
              "        vertical-align: top;\n",
              "    }\n",
              "\n",
              "    .dataframe thead th {\n",
              "        text-align: right;\n",
              "    }\n",
              "</style>\n",
              "<table border=\"1\" class=\"dataframe\">\n",
              "  <thead>\n",
              "    <tr style=\"text-align: right;\">\n",
              "      <th></th>\n",
              "      <th>data</th>\n",
              "      <th>usuario</th>\n",
              "      <th>apelido</th>\n",
              "      <th>texto</th>\n",
              "      <th>retweet</th>\n",
              "      <th>seguidores</th>\n",
              "      <th>idioma</th>\n",
              "      <th>lugar</th>\n",
              "      <th>pais</th>\n",
              "      <th>sigla</th>\n",
              "      <th>latitude</th>\n",
              "      <th>longitude</th>\n",
              "      <th>hashtags</th>\n",
              "    </tr>\n",
              "  </thead>\n",
              "  <tbody>\n",
              "    <tr>\n",
              "      <th>0</th>\n",
              "      <td>2020-03-23 18:51:14</td>\n",
              "      <td>Gaboardi</td>\n",
              "      <td>fraslee</td>\n",
              "      <td>@BolsonaroSP Cade o fundão deputado??? Congres...</td>\n",
              "      <td>0</td>\n",
              "      <td>138</td>\n",
              "      <td>pt</td>\n",
              "      <td>NaN</td>\n",
              "      <td>NaN</td>\n",
              "      <td>NaN</td>\n",
              "      <td>NaN</td>\n",
              "      <td>NaN</td>\n",
              "      <td>[]</td>\n",
              "    </tr>\n",
              "    <tr>\n",
              "      <th>1</th>\n",
              "      <td>2020-03-18 03:18:14</td>\n",
              "      <td>Seu Zé da Farmácia</td>\n",
              "      <td>seuzedafarmacia</td>\n",
              "      <td>Em ação preventiva, o Governo do Estado suspen...</td>\n",
              "      <td>0</td>\n",
              "      <td>56</td>\n",
              "      <td>pt</td>\n",
              "      <td>NaN</td>\n",
              "      <td>NaN</td>\n",
              "      <td>NaN</td>\n",
              "      <td>NaN</td>\n",
              "      <td>NaN</td>\n",
              "      <td>[]</td>\n",
              "    </tr>\n",
              "    <tr>\n",
              "      <th>2</th>\n",
              "      <td>2020-03-29 12:09:27</td>\n",
              "      <td>Marília Oliveira 🇧🇷</td>\n",
              "      <td>Marioliveira_gb</td>\n",
              "      <td>Incrível como os defensores do fim do distanci...</td>\n",
              "      <td>0</td>\n",
              "      <td>5</td>\n",
              "      <td>pt</td>\n",
              "      <td>NaN</td>\n",
              "      <td>NaN</td>\n",
              "      <td>NaN</td>\n",
              "      <td>NaN</td>\n",
              "      <td>NaN</td>\n",
              "      <td>[]</td>\n",
              "    </tr>\n",
              "    <tr>\n",
              "      <th>3</th>\n",
              "      <td>2020-04-01 21:11:07</td>\n",
              "      <td>🚩</td>\n",
              "      <td>santosodeto</td>\n",
              "      <td>Fumaça de cigarro pode propagar coronavírus? h...</td>\n",
              "      <td>0</td>\n",
              "      <td>1885</td>\n",
              "      <td>pt</td>\n",
              "      <td>NaN</td>\n",
              "      <td>NaN</td>\n",
              "      <td>NaN</td>\n",
              "      <td>NaN</td>\n",
              "      <td>NaN</td>\n",
              "      <td>[]</td>\n",
              "    </tr>\n",
              "    <tr>\n",
              "      <th>4</th>\n",
              "      <td>2020-03-19 17:49:40</td>\n",
              "      <td>Nova Impressão</td>\n",
              "      <td>novaimpressao_</td>\n",
              "      <td>🚨Todos juntos contra COVID-19💪\\n\\nSolicite seu...</td>\n",
              "      <td>0</td>\n",
              "      <td>124</td>\n",
              "      <td>pt</td>\n",
              "      <td>Brasília</td>\n",
              "      <td>Brazil</td>\n",
              "      <td>BR</td>\n",
              "      <td>-47.8778</td>\n",
              "      <td>-15.77691</td>\n",
              "      <td>[]</td>\n",
              "    </tr>\n",
              "    <tr>\n",
              "      <th>...</th>\n",
              "      <td>...</td>\n",
              "      <td>...</td>\n",
              "      <td>...</td>\n",
              "      <td>...</td>\n",
              "      <td>...</td>\n",
              "      <td>...</td>\n",
              "      <td>...</td>\n",
              "      <td>...</td>\n",
              "      <td>...</td>\n",
              "      <td>...</td>\n",
              "      <td>...</td>\n",
              "      <td>...</td>\n",
              "      <td>...</td>\n",
              "    </tr>\n",
              "    <tr>\n",
              "      <th>1658820</th>\n",
              "      <td>2020-03-13 17:26:18</td>\n",
              "      <td>broca</td>\n",
              "      <td>whoisdrill</td>\n",
              "      <td>oms: tamo tendo pandemia evitar\\n conglomerado...</td>\n",
              "      <td>0</td>\n",
              "      <td>361</td>\n",
              "      <td>pt</td>\n",
              "      <td>NaN</td>\n",
              "      <td>NaN</td>\n",
              "      <td>NaN</td>\n",
              "      <td>NaN</td>\n",
              "      <td>NaN</td>\n",
              "      <td>[]</td>\n",
              "    </tr>\n",
              "    <tr>\n",
              "      <th>1658821</th>\n",
              "      <td>2020-05-12 13:02:34</td>\n",
              "      <td>Renato 🇧🇷</td>\n",
              "      <td>VerdadeExpress</td>\n",
              "      <td>@OsmarTerra Sr. Osmar Terra, gostaria de ouvir...</td>\n",
              "      <td>0</td>\n",
              "      <td>4066</td>\n",
              "      <td>pt</td>\n",
              "      <td>NaN</td>\n",
              "      <td>NaN</td>\n",
              "      <td>NaN</td>\n",
              "      <td>NaN</td>\n",
              "      <td>NaN</td>\n",
              "      <td>[]</td>\n",
              "    </tr>\n",
              "    <tr>\n",
              "      <th>1658822</th>\n",
              "      <td>2020-03-19 18:16:30</td>\n",
              "      <td>eugeniocosta8</td>\n",
              "      <td>EugenioCosta8</td>\n",
              "      <td>CIENTISTA DE HARVARD PREVÊ QUE ATÉ 70% DO MUND...</td>\n",
              "      <td>3</td>\n",
              "      <td>5307</td>\n",
              "      <td>pt</td>\n",
              "      <td>NaN</td>\n",
              "      <td>NaN</td>\n",
              "      <td>NaN</td>\n",
              "      <td>NaN</td>\n",
              "      <td>NaN</td>\n",
              "      <td>['CORONAVIRUS']</td>\n",
              "    </tr>\n",
              "    <tr>\n",
              "      <th>1658823</th>\n",
              "      <td>2020-04-07 18:14:45</td>\n",
              "      <td>Wagner Mota - Seriedade + Geek</td>\n",
              "      <td>wagnermota75</td>\n",
              "      <td>#BolsonaroTemRazaoSim porque, quando a prefeit...</td>\n",
              "      <td>0</td>\n",
              "      <td>1000</td>\n",
              "      <td>pt</td>\n",
              "      <td>NaN</td>\n",
              "      <td>NaN</td>\n",
              "      <td>NaN</td>\n",
              "      <td>NaN</td>\n",
              "      <td>NaN</td>\n",
              "      <td>['BolsonaroTemRazaoSim']</td>\n",
              "    </tr>\n",
              "    <tr>\n",
              "      <th>1658824</th>\n",
              "      <td>2020-06-02 16:04:51</td>\n",
              "      <td>Fotógrafo</td>\n",
              "      <td>omarcelogoulart</td>\n",
              "      <td>Em meio a uma pandemia, estamos na luta também...</td>\n",
              "      <td>0</td>\n",
              "      <td>726</td>\n",
              "      <td>pt</td>\n",
              "      <td>São Félix do Araguaia</td>\n",
              "      <td>Brazil</td>\n",
              "      <td>BR</td>\n",
              "      <td>-53.0000</td>\n",
              "      <td>-11.00000</td>\n",
              "      <td>[]</td>\n",
              "    </tr>\n",
              "  </tbody>\n",
              "</table>\n",
              "<p>1658825 rows × 13 columns</p>\n",
              "</div>"
            ],
            "text/plain": [
              "                        data  ...                  hashtags\n",
              "0        2020-03-23 18:51:14  ...                        []\n",
              "1        2020-03-18 03:18:14  ...                        []\n",
              "2        2020-03-29 12:09:27  ...                        []\n",
              "3        2020-04-01 21:11:07  ...                        []\n",
              "4        2020-03-19 17:49:40  ...                        []\n",
              "...                      ...  ...                       ...\n",
              "1658820  2020-03-13 17:26:18  ...                        []\n",
              "1658821  2020-05-12 13:02:34  ...                        []\n",
              "1658822  2020-03-19 18:16:30  ...           ['CORONAVIRUS']\n",
              "1658823  2020-04-07 18:14:45  ...  ['BolsonaroTemRazaoSim']\n",
              "1658824  2020-06-02 16:04:51  ...                        []\n",
              "\n",
              "[1658825 rows x 13 columns]"
            ]
          },
          "metadata": {
            "tags": []
          },
          "execution_count": 3
        }
      ]
    },
    {
      "cell_type": "code",
      "metadata": {
        "id": "O4DoSFbl60kd",
        "outputId": "93862884-34a7-4c1b-b947-7f6cf5fdba18",
        "colab": {
          "base_uri": "https://localhost:8080/",
          "height": 34
        }
      },
      "source": [
        "raw_data.shape"
      ],
      "execution_count": null,
      "outputs": [
        {
          "output_type": "execute_result",
          "data": {
            "text/plain": [
              "(1658825, 13)"
            ]
          },
          "metadata": {
            "tags": []
          },
          "execution_count": 69
        }
      ]
    },
    {
      "cell_type": "markdown",
      "metadata": {
        "id": "p-_YlNc18NvD"
      },
      "source": [
        "Como é possível visualizar acima, o dataset possui 1.658.825 registros distribuídos entre 13 colunas, as quais possuem dados sobre o texto do tweet, quem o escreveu, a data, sua localização, as 'hashtags' utilizadas, entre outras informações.\n",
        "<br>\n",
        "Além disso, é possível verificar que algumas colunas possuem dados com o valor NaN, ou seja, não foi possível verificar um valor válido para determinado registro nesta coluna. \n",
        "<br>\n",
        "Logo, nem todos os registros tem todos os dados preenchidos."
      ]
    },
    {
      "cell_type": "code",
      "metadata": {
        "id": "-DYYzYxnETCc",
        "outputId": "eea6f206-71f7-483a-bb03-6ed7bffe9852",
        "colab": {
          "base_uri": "https://localhost:8080/",
          "height": 50
        }
      },
      "source": [
        "#Confirmando que há dados NaN\n",
        "print(raw_data.isnull().values.any())\n",
        "print(raw_data.notna().values.any())"
      ],
      "execution_count": null,
      "outputs": [
        {
          "output_type": "stream",
          "text": [
            "True\n",
            "True\n"
          ],
          "name": "stdout"
        }
      ]
    },
    {
      "cell_type": "markdown",
      "metadata": {
        "id": "F95q7tnR8i_J"
      },
      "source": [
        "Vamos verificar outras informações sobre o dataset utilizando funções estatísticas que o próprio Pandas fornece."
      ]
    },
    {
      "cell_type": "code",
      "metadata": {
        "id": "nTAvZeKRFt4C",
        "outputId": "712116d0-8f30-4aba-9276-8afa66e46bf3",
        "colab": {
          "base_uri": "https://localhost:8080/",
          "height": 252
        }
      },
      "source": [
        "#Confirmando a quantidade de registros, uma vez que o método count ignora valores None, NaN e NaT\n",
        "raw_data.count()"
      ],
      "execution_count": null,
      "outputs": [
        {
          "output_type": "execute_result",
          "data": {
            "text/plain": [
              "data          1658825\n",
              "usuario       1658768\n",
              "apelido       1658825\n",
              "texto         1658825\n",
              "retweet       1658825\n",
              "seguidores    1658825\n",
              "idioma        1658825\n",
              "lugar           74605\n",
              "pais            74600\n",
              "sigla           74595\n",
              "latitude         8720\n",
              "longitude        8720\n",
              "hashtags      1658825\n",
              "dtype: int64"
            ]
          },
          "metadata": {
            "tags": []
          },
          "execution_count": 40
        }
      ]
    },
    {
      "cell_type": "markdown",
      "metadata": {
        "id": "OCaK_JOO_xOc"
      },
      "source": [
        "Para confirmar o período dos tweets presente no dataset, podemos verificar o valor mínimo e máximo da informação na coluna de data. Como esta informação é do tipo String, podemos utilizar uma função do Pandas para transformá-la em um objeto do tipo Date e modificar seu formato de leitura para o utilizado no Brasil."
      ]
    },
    {
      "cell_type": "code",
      "metadata": {
        "id": "QdDqKxPvEf96",
        "outputId": "ba4771bc-5df7-4c60-ee0b-0f34b36f6c9f",
        "colab": {
          "base_uri": "https://localhost:8080/",
          "height": 50
        }
      },
      "source": [
        "print('Dia inicial: ', pd.to_datetime(raw_data['data'].min()).strftime('%d/%m/%Y %H:%M:%S'))\n",
        "print('Dia final: ', pd.to_datetime(raw_data['data'].max()).strftime('%d/%m/%Y %H:%M:%S'))"
      ],
      "execution_count": null,
      "outputs": [
        {
          "output_type": "stream",
          "text": [
            "Dia inicial:  01/01/2020 00:42:12\n",
            "Dia final:  28/07/2020 17:19:44\n"
          ],
          "name": "stdout"
        }
      ]
    },
    {
      "cell_type": "markdown",
      "metadata": {
        "id": "J53u52hhGr-S"
      },
      "source": [
        "Podemos utilizar a função describe para verificar alguns dados estatisticos do dataset. Neste caso, vamos utilizar em todo o dataset, então, para que ele processe dados do tipo String, iremos informar à função o parâmetro 'O', de Object."
      ]
    },
    {
      "cell_type": "code",
      "metadata": {
        "id": "x-QMSm2vF18_",
        "outputId": "7177dc11-8bf3-4f16-d75a-cd7a5ca00381",
        "colab": {
          "base_uri": "https://localhost:8080/",
          "height": 166
        }
      },
      "source": [
        "raw_data.describe(include = ['O'])"
      ],
      "execution_count": null,
      "outputs": [
        {
          "output_type": "execute_result",
          "data": {
            "text/html": [
              "<div>\n",
              "<style scoped>\n",
              "    .dataframe tbody tr th:only-of-type {\n",
              "        vertical-align: middle;\n",
              "    }\n",
              "\n",
              "    .dataframe tbody tr th {\n",
              "        vertical-align: top;\n",
              "    }\n",
              "\n",
              "    .dataframe thead th {\n",
              "        text-align: right;\n",
              "    }\n",
              "</style>\n",
              "<table border=\"1\" class=\"dataframe\">\n",
              "  <thead>\n",
              "    <tr style=\"text-align: right;\">\n",
              "      <th></th>\n",
              "      <th>data</th>\n",
              "      <th>usuario</th>\n",
              "      <th>apelido</th>\n",
              "      <th>texto</th>\n",
              "      <th>idioma</th>\n",
              "      <th>lugar</th>\n",
              "      <th>pais</th>\n",
              "      <th>sigla</th>\n",
              "      <th>hashtags</th>\n",
              "    </tr>\n",
              "  </thead>\n",
              "  <tbody>\n",
              "    <tr>\n",
              "      <th>count</th>\n",
              "      <td>1658825</td>\n",
              "      <td>1658768</td>\n",
              "      <td>1658825</td>\n",
              "      <td>1658825</td>\n",
              "      <td>1658825</td>\n",
              "      <td>74605</td>\n",
              "      <td>74600</td>\n",
              "      <td>74595</td>\n",
              "      <td>1658825</td>\n",
              "    </tr>\n",
              "    <tr>\n",
              "      <th>unique</th>\n",
              "      <td>1202322</td>\n",
              "      <td>632601</td>\n",
              "      <td>774516</td>\n",
              "      <td>1653599</td>\n",
              "      <td>59</td>\n",
              "      <td>4500</td>\n",
              "      <td>121</td>\n",
              "      <td>120</td>\n",
              "      <td>63838</td>\n",
              "    </tr>\n",
              "    <tr>\n",
              "      <th>top</th>\n",
              "      <td>2020-04-15 21:00:00</td>\n",
              "      <td>.</td>\n",
              "      <td>Lusa_noticias</td>\n",
              "      <td>covid 19? desculpa eu entendi convite pra fica...</td>\n",
              "      <td>pt</td>\n",
              "      <td>Rio de Janeiro</td>\n",
              "      <td>Brazil</td>\n",
              "      <td>BR</td>\n",
              "      <td>[]</td>\n",
              "    </tr>\n",
              "    <tr>\n",
              "      <th>freq</th>\n",
              "      <td>27</td>\n",
              "      <td>1624</td>\n",
              "      <td>1404</td>\n",
              "      <td>120</td>\n",
              "      <td>1586796</td>\n",
              "      <td>8443</td>\n",
              "      <td>67247</td>\n",
              "      <td>67247</td>\n",
              "      <td>1495569</td>\n",
              "    </tr>\n",
              "  </tbody>\n",
              "</table>\n",
              "</div>"
            ],
            "text/plain": [
              "                       data  usuario        apelido  ...    pais  sigla hashtags\n",
              "count               1658825  1658768        1658825  ...   74600  74595  1658825\n",
              "unique              1202322   632601         774516  ...     121    120    63838\n",
              "top     2020-04-15 21:00:00        .  Lusa_noticias  ...  Brazil     BR       []\n",
              "freq                     27     1624           1404  ...   67247  67247  1495569\n",
              "\n",
              "[4 rows x 9 columns]"
            ]
          },
          "metadata": {
            "tags": []
          },
          "execution_count": 103
        }
      ]
    },
    {
      "cell_type": "markdown",
      "metadata": {
        "id": "QwWKLtXKLVIG"
      },
      "source": [
        "Podemos verificar a diferença entre os dados da linha **count** e da linha **unique**, que indica que há dados repetidos. \n",
        "<br>\n",
        "No caso da data, por exemplo, podemos observar que foram escritos tuítes (simultaneamente) em um mesmo horário 15-04-2020, às 21 horas 'em ponto', totalizando 27 vezes, como mostra a linha **freq**.\n",
        "<br>\n",
        "Já com relação à usuário, podemos inferir que um alguns tuitaram mais de uma vez. O mesmo para a coluna texto, a qual representa o tuíte em si, que, dada a diferença entre os valores encontrados e os valores únicos, provavelmente alguns deles sejam retuítes (de tuítes que também se encontram no dataset). \n",
        "<br>\n",
        "Podemos verificar que há tuítes de 59 idiomas, sendo o mais presente o pt (português) e do Brasil, dada a informação na coluna de lugar, o qual informa que o lugar que mais gerou os tuites foi a cidade do Rio de Janeiro. Por consequência, o país que mais gerou tuites no dataset foi o Brasil.\n"
      ]
    },
    {
      "cell_type": "code",
      "metadata": {
        "id": "1cERe96QLKW6"
      },
      "source": [
        "# Geração de Word Cloud para os dados brutos (pesado, hein)\n",
        "gen_img_word_cloud(raw_data['texto']);"
      ],
      "execution_count": null,
      "outputs": []
    },
    {
      "cell_type": "code",
      "metadata": {
        "id": "MkDllU8NPPX-",
        "outputId": "5fdeaf98-a57f-41bb-cfc1-d006b5fd3a67",
        "colab": {
          "base_uri": "https://localhost:8080/",
          "height": 513
        }
      },
      "source": [
        "# Quantidade de tweets por mês (sem contar a hora, minuto e segundo)\n",
        "df_date = raw_data.groupby(pd.to_datetime(raw_data['data']).dt.strftime('%m'))['data'].count()\n",
        "df_date\n",
        "plt.figure(figsize=(16,8))\n",
        "plt.title('Quantidade de tweets no primeiro semestre de 2020')\n",
        "plt.plot(df_date)\n",
        "plt.xlabel(\"Mês\")\n",
        "plt.ylabel(\"Quantidade\")\n",
        "plt.show()"
      ],
      "execution_count": null,
      "outputs": [
        {
          "output_type": "display_data",
          "data": {
            "image/png": "[encoded data removed]",
            "text/plain": [
              "<Figure size 1152x576 with 1 Axes>"
            ]
          },
          "metadata": {
            "tags": [],
            "needs_background": "light"
          }
        }
      ]
    },
    {
      "cell_type": "markdown",
      "metadata": {
        "id": "yHM2RTWLyuvb"
      },
      "source": [
        "Observando o gráfico anterior, podemos visualizar que em janeiro já havia uma quantidade considerável de tuítes, provavelmente devido às notícias sobre os primeiros casos de COVID-19, ocorridos em Dezembro de 2019.\n",
        "<br>\n",
        "Como vimos anteriormente, o Brasil foi o país que mais produziu tuítes. Levando isso em consideração, o aumento na quantidade ao longo dos meses seguintes podem estar relacionados à notícias como o Projeto de Lei para a quarentena, aprovado pelo Congresso Nacional e o primeiro caso de COVID-19 registrado no país, no final de fevereiro - inclusive o pico (ponto mais alto) ocorreu nesse período, final de fereveiro e início de março.\n",
        "<br>\n",
        "Fonte das informações: https://coronavirus.saude.gov.br/linha-do-tempo/. \n",
        "<br>"
      ]
    },
    {
      "cell_type": "code",
      "metadata": {
        "id": "8l_cfKF-gDX_",
        "outputId": "0659cfa3-f359-48f1-c5f4-48118592d00e",
        "colab": {
          "base_uri": "https://localhost:8080/",
          "height": 513
        }
      },
      "source": [
        "# Quantidade de tweets por dias (sem contar a hora, minuto e segundo)\n",
        "df_date = raw_data.groupby(pd.to_datetime(raw_data['data']).dt.date)['data'].count()\n",
        "df_date\n",
        "plt.figure(figsize=(16,8))\n",
        "plt.title('Quantidade de tweets no primeiro semestre de 2020')\n",
        "plt.plot(df_date)\n",
        "plt.xlabel(\"Data\")\n",
        "plt.ylabel(\"Quantidade\")\n",
        "plt.show()"
      ],
      "execution_count": null,
      "outputs": [
        {
          "output_type": "display_data",
          "data": {
            "image/png": "[encoded data removed]",
            "text/plain": [
              "<Figure size 1152x576 with 1 Axes>"
            ]
          },
          "metadata": {
            "tags": [],
            "needs_background": "light"
          }
        }
      ]
    },
    {
      "cell_type": "code",
      "metadata": {
        "id": "0Y0vByNd4t2y",
        "outputId": "7e0650ae-4d17-4374-d9be-d22d20fdee56",
        "colab": {
          "base_uri": "https://localhost:8080/",
          "height": 34
        }
      },
      "source": [
        "maxdf = raw_data.groupby(pd.to_datetime(raw_data['data']).dt.date)['data'].count()\n",
        "maxdf.idxmax()\n"
      ],
      "execution_count": null,
      "outputs": [
        {
          "output_type": "execute_result",
          "data": {
            "text/plain": [
              "datetime.date(2020, 6, 1)"
            ]
          },
          "metadata": {
            "tags": []
          },
          "execution_count": 16
        }
      ]
    },
    {
      "cell_type": "markdown",
      "metadata": {
        "id": "gmC6TvS34YSk"
      },
      "source": [
        "Porém, mesmo o pico de tuítes ocorrendo no mês de março, quando visualizamos a quantidade em relação ao dia, podemos verificar que ocorreu no mês de junho, especificamente no dia 01-06-2020."
      ]
    },
    {
      "cell_type": "code",
      "metadata": {
        "id": "h9AnrcILInP7",
        "outputId": "426ba25a-9e93-46be-e172-7476fb021554",
        "colab": {
          "base_uri": "https://localhost:8080/",
          "height": 284
        }
      },
      "source": [
        "# Quantidade de tweets por lugar\n",
        "\n",
        "# Cópia dos dados\n",
        "df_place = raw_data.loc[:]\n",
        "df_place = df_place.groupby([\"lugar\"]).agg(\n",
        "    qtd_tweets=pd.NamedAgg(column=\"lugar\", aggfunc=\"count\")\n",
        ")\n",
        "df_place.sort_values(by=['qtd_tweets'], ascending=False, inplace=True)\n",
        "df_place.reset_index(inplace=True)\n",
        "df_place.describe()\n"
      ],
      "execution_count": null,
      "outputs": [
        {
          "output_type": "execute_result",
          "data": {
            "text/html": [
              "<div>\n",
              "<style scoped>\n",
              "    .dataframe tbody tr th:only-of-type {\n",
              "        vertical-align: middle;\n",
              "    }\n",
              "\n",
              "    .dataframe tbody tr th {\n",
              "        vertical-align: top;\n",
              "    }\n",
              "\n",
              "    .dataframe thead th {\n",
              "        text-align: right;\n",
              "    }\n",
              "</style>\n",
              "<table border=\"1\" class=\"dataframe\">\n",
              "  <thead>\n",
              "    <tr style=\"text-align: right;\">\n",
              "      <th></th>\n",
              "      <th>qtd_tweets</th>\n",
              "    </tr>\n",
              "  </thead>\n",
              "  <tbody>\n",
              "    <tr>\n",
              "      <th>count</th>\n",
              "      <td>4500.000000</td>\n",
              "    </tr>\n",
              "    <tr>\n",
              "      <th>mean</th>\n",
              "      <td>16.578889</td>\n",
              "    </tr>\n",
              "    <tr>\n",
              "      <th>std</th>\n",
              "      <td>187.688282</td>\n",
              "    </tr>\n",
              "    <tr>\n",
              "      <th>min</th>\n",
              "      <td>1.000000</td>\n",
              "    </tr>\n",
              "    <tr>\n",
              "      <th>25%</th>\n",
              "      <td>1.000000</td>\n",
              "    </tr>\n",
              "    <tr>\n",
              "      <th>50%</th>\n",
              "      <td>2.000000</td>\n",
              "    </tr>\n",
              "    <tr>\n",
              "      <th>75%</th>\n",
              "      <td>5.000000</td>\n",
              "    </tr>\n",
              "    <tr>\n",
              "      <th>max</th>\n",
              "      <td>8443.000000</td>\n",
              "    </tr>\n",
              "  </tbody>\n",
              "</table>\n",
              "</div>"
            ],
            "text/plain": [
              "        qtd_tweets\n",
              "count  4500.000000\n",
              "mean     16.578889\n",
              "std     187.688282\n",
              "min       1.000000\n",
              "25%       1.000000\n",
              "50%       2.000000\n",
              "75%       5.000000\n",
              "max    8443.000000"
            ]
          },
          "metadata": {
            "tags": []
          },
          "execution_count": 81
        }
      ]
    },
    {
      "cell_type": "code",
      "metadata": {
        "id": "7k6ez_yfkDFQ",
        "outputId": "8ddea434-af86-4648-deb9-684929f863db",
        "colab": {
          "base_uri": "https://localhost:8080/",
          "height": 513
        }
      },
      "source": [
        "# Quantidade de tweets por lugar\n",
        "\n",
        "dims = (18, 8)\n",
        "fig, ax = plt.subplots(figsize=dims)\n",
        "ax.set_title('Quantidade de tweets por lugar no primeiro semestre de 2020')\n",
        "ax = sns.barplot(x=\"lugar\", y=\"qtd_tweets\", data=df_place.iloc[0:15])"
      ],
      "execution_count": null,
      "outputs": [
        {
          "output_type": "display_data",
          "data": {
            "image/png": "[encoded data removed]",
            "text/plain": [
              "<Figure size 1296x576 with 1 Axes>"
            ]
          },
          "metadata": {
            "tags": [],
            "needs_background": "light"
          }
        }
      ]
    },
    {
      "cell_type": "code",
      "metadata": {
        "id": "xMiuVSLH7j2e",
        "outputId": "e3404f48-d6d8-4b8c-8fc6-af419b3b9e21",
        "colab": {
          "base_uri": "https://localhost:8080/",
          "height": 570
        }
      },
      "source": [
        "df_fls = raw_data[:]\n",
        "df_fls.sort_values(by=['seguidores'], ascending=False, inplace=True)\n",
        "df_fls.reset_index(inplace=True)\n",
        "df_fls"
      ],
      "execution_count": null,
      "outputs": [
        {
          "output_type": "execute_result",
          "data": {
            "text/html": [
              "<div>\n",
              "<style scoped>\n",
              "    .dataframe tbody tr th:only-of-type {\n",
              "        vertical-align: middle;\n",
              "    }\n",
              "\n",
              "    .dataframe tbody tr th {\n",
              "        vertical-align: top;\n",
              "    }\n",
              "\n",
              "    .dataframe thead th {\n",
              "        text-align: right;\n",
              "    }\n",
              "</style>\n",
              "<table border=\"1\" class=\"dataframe\">\n",
              "  <thead>\n",
              "    <tr style=\"text-align: right;\">\n",
              "      <th></th>\n",
              "      <th>index</th>\n",
              "      <th>data</th>\n",
              "      <th>usuario</th>\n",
              "      <th>apelido</th>\n",
              "      <th>texto</th>\n",
              "      <th>retweet</th>\n",
              "      <th>seguidores</th>\n",
              "      <th>idioma</th>\n",
              "      <th>lugar</th>\n",
              "      <th>pais</th>\n",
              "      <th>sigla</th>\n",
              "      <th>latitude</th>\n",
              "      <th>longitude</th>\n",
              "      <th>hashtags</th>\n",
              "    </tr>\n",
              "  </thead>\n",
              "  <tbody>\n",
              "    <tr>\n",
              "      <th>0</th>\n",
              "      <td>788393</td>\n",
              "      <td>2020-05-23 23:08:17</td>\n",
              "      <td>Donald J. Trump</td>\n",
              "      <td>realDonaldTrump</td>\n",
              "      <td>RT @RyanAFournier: This morning, Joe Biden sai...</td>\n",
              "      <td>21369</td>\n",
              "      <td>84241250</td>\n",
              "      <td>en</td>\n",
              "      <td>NaN</td>\n",
              "      <td>NaN</td>\n",
              "      <td>NaN</td>\n",
              "      <td>NaN</td>\n",
              "      <td>NaN</td>\n",
              "      <td>[]</td>\n",
              "    </tr>\n",
              "    <tr>\n",
              "      <th>1</th>\n",
              "      <td>610962</td>\n",
              "      <td>2020-05-12 09:40:41</td>\n",
              "      <td>Reuters</td>\n",
              "      <td>Reuters</td>\n",
              "      <td>Japanese author Murakami to DJ 'Stay Home' rad...</td>\n",
              "      <td>46</td>\n",
              "      <td>22098307</td>\n",
              "      <td>en</td>\n",
              "      <td>NaN</td>\n",
              "      <td>NaN</td>\n",
              "      <td>NaN</td>\n",
              "      <td>NaN</td>\n",
              "      <td>NaN</td>\n",
              "      <td>[]</td>\n",
              "    </tr>\n",
              "    <tr>\n",
              "      <th>2</th>\n",
              "      <td>113733</td>\n",
              "      <td>2020-04-16 15:40:07</td>\n",
              "      <td>CNN en Español</td>\n",
              "      <td>CNNEE</td>\n",
              "      <td>FDA pide a recuperados de covid-19 donar sangr...</td>\n",
              "      <td>139</td>\n",
              "      <td>18878720</td>\n",
              "      <td>pt</td>\n",
              "      <td>NaN</td>\n",
              "      <td>NaN</td>\n",
              "      <td>NaN</td>\n",
              "      <td>NaN</td>\n",
              "      <td>NaN</td>\n",
              "      <td>[]</td>\n",
              "    </tr>\n",
              "    <tr>\n",
              "      <th>3</th>\n",
              "      <td>1491980</td>\n",
              "      <td>2020-04-07 21:30:08</td>\n",
              "      <td>CNN en Español</td>\n",
              "      <td>CNNEE</td>\n",
              "      <td>Ronda global de noticias de coronavirus este 7...</td>\n",
              "      <td>22</td>\n",
              "      <td>18875851</td>\n",
              "      <td>pt</td>\n",
              "      <td>NaN</td>\n",
              "      <td>NaN</td>\n",
              "      <td>NaN</td>\n",
              "      <td>NaN</td>\n",
              "      <td>NaN</td>\n",
              "      <td>[]</td>\n",
              "    </tr>\n",
              "    <tr>\n",
              "      <th>4</th>\n",
              "      <td>1519974</td>\n",
              "      <td>2020-02-26 03:28:52</td>\n",
              "      <td>Danilo Gentili</td>\n",
              "      <td>DaniloGentili</td>\n",
              "      <td>@Fabiodedao Eu levarei a nova schin que aí vai...</td>\n",
              "      <td>0</td>\n",
              "      <td>17244348</td>\n",
              "      <td>pt</td>\n",
              "      <td>NaN</td>\n",
              "      <td>NaN</td>\n",
              "      <td>NaN</td>\n",
              "      <td>NaN</td>\n",
              "      <td>NaN</td>\n",
              "      <td>[]</td>\n",
              "    </tr>\n",
              "    <tr>\n",
              "      <th>...</th>\n",
              "      <td>...</td>\n",
              "      <td>...</td>\n",
              "      <td>...</td>\n",
              "      <td>...</td>\n",
              "      <td>...</td>\n",
              "      <td>...</td>\n",
              "      <td>...</td>\n",
              "      <td>...</td>\n",
              "      <td>...</td>\n",
              "      <td>...</td>\n",
              "      <td>...</td>\n",
              "      <td>...</td>\n",
              "      <td>...</td>\n",
              "      <td>...</td>\n",
              "    </tr>\n",
              "    <tr>\n",
              "      <th>1658820</th>\n",
              "      <td>1190679</td>\n",
              "      <td>2020-06-01 20:02:40</td>\n",
              "      <td>Carlos André Sardenberg Teixeira</td>\n",
              "      <td>CarlosAndrSard4</td>\n",
              "      <td>@Llucianealves @whindersson O Brasil é o pior ...</td>\n",
              "      <td>0</td>\n",
              "      <td>0</td>\n",
              "      <td>pt</td>\n",
              "      <td>NaN</td>\n",
              "      <td>NaN</td>\n",
              "      <td>NaN</td>\n",
              "      <td>NaN</td>\n",
              "      <td>NaN</td>\n",
              "      <td>[]</td>\n",
              "    </tr>\n",
              "    <tr>\n",
              "      <th>1658821</th>\n",
              "      <td>1219334</td>\n",
              "      <td>2020-04-02 18:42:38</td>\n",
              "      <td>raul castro</td>\n",
              "      <td>raulcas78753615</td>\n",
              "      <td>@CCarloscoelho @tarcisiogdf @MInfraestrutura @...</td>\n",
              "      <td>0</td>\n",
              "      <td>0</td>\n",
              "      <td>pt</td>\n",
              "      <td>NaN</td>\n",
              "      <td>NaN</td>\n",
              "      <td>NaN</td>\n",
              "      <td>NaN</td>\n",
              "      <td>NaN</td>\n",
              "      <td>[]</td>\n",
              "    </tr>\n",
              "    <tr>\n",
              "      <th>1658822</th>\n",
              "      <td>895859</td>\n",
              "      <td>2020-03-19 18:22:56</td>\n",
              "      <td>Cout1nh0</td>\n",
              "      <td>Cout1nh01</td>\n",
              "      <td>@BolsonaroSP Para de falar merda, seu arrombad...</td>\n",
              "      <td>1</td>\n",
              "      <td>0</td>\n",
              "      <td>pt</td>\n",
              "      <td>NaN</td>\n",
              "      <td>NaN</td>\n",
              "      <td>NaN</td>\n",
              "      <td>NaN</td>\n",
              "      <td>NaN</td>\n",
              "      <td>[]</td>\n",
              "    </tr>\n",
              "    <tr>\n",
              "      <th>1658823</th>\n",
              "      <td>1596157</td>\n",
              "      <td>2020-05-22 17:17:52</td>\n",
              "      <td>jaky.chen</td>\n",
              "      <td>jakychen3</td>\n",
              "      <td>@flyethiopian Take me to home</td>\n",
              "      <td>0</td>\n",
              "      <td>0</td>\n",
              "      <td>en</td>\n",
              "      <td>NaN</td>\n",
              "      <td>NaN</td>\n",
              "      <td>NaN</td>\n",
              "      <td>NaN</td>\n",
              "      <td>NaN</td>\n",
              "      <td>[]</td>\n",
              "    </tr>\n",
              "    <tr>\n",
              "      <th>1658824</th>\n",
              "      <td>899761</td>\n",
              "      <td>2020-05-09 21:01:18</td>\n",
              "      <td>Nezarr</td>\n",
              "      <td>O_Calculador</td>\n",
              "      <td>@durshino @oitiocaio @ytgabrielbrito @felipene...</td>\n",
              "      <td>0</td>\n",
              "      <td>0</td>\n",
              "      <td>pt</td>\n",
              "      <td>NaN</td>\n",
              "      <td>NaN</td>\n",
              "      <td>NaN</td>\n",
              "      <td>NaN</td>\n",
              "      <td>NaN</td>\n",
              "      <td>[]</td>\n",
              "    </tr>\n",
              "  </tbody>\n",
              "</table>\n",
              "<p>1658825 rows × 14 columns</p>\n",
              "</div>"
            ],
            "text/plain": [
              "           index                 data  ... longitude hashtags\n",
              "0         788393  2020-05-23 23:08:17  ...       NaN       []\n",
              "1         610962  2020-05-12 09:40:41  ...       NaN       []\n",
              "2         113733  2020-04-16 15:40:07  ...       NaN       []\n",
              "3        1491980  2020-04-07 21:30:08  ...       NaN       []\n",
              "4        1519974  2020-02-26 03:28:52  ...       NaN       []\n",
              "...          ...                  ...  ...       ...      ...\n",
              "1658820  1190679  2020-06-01 20:02:40  ...       NaN       []\n",
              "1658821  1219334  2020-04-02 18:42:38  ...       NaN       []\n",
              "1658822   895859  2020-03-19 18:22:56  ...       NaN       []\n",
              "1658823  1596157  2020-05-22 17:17:52  ...       NaN       []\n",
              "1658824   899761  2020-05-09 21:01:18  ...       NaN       []\n",
              "\n",
              "[1658825 rows x 14 columns]"
            ]
          },
          "metadata": {
            "tags": []
          },
          "execution_count": 99
        }
      ]
    },
    {
      "cell_type": "markdown",
      "metadata": {
        "id": "cff80H_M7S6u"
      },
      "source": [
        "Neste dataset, o usuário que possui mais seguidores é o presidente do Estados Unidos da América, Donald Trump, seguido pelas agências de notícias Reuters e CNN (Espanha).\n",
        "<br>\n",
        "No Brasil, o que possui mais seguidores é o humorista Danilo Gentili (seria essa uma boa piada?)."
      ]
    },
    {
      "cell_type": "markdown",
      "metadata": {
        "id": "kONPWB09MhLq"
      },
      "source": [
        "# Dataset DuvidasDB"
      ]
    },
    {
      "cell_type": "code",
      "metadata": {
        "id": "3IzQbUQc7zmq",
        "outputId": "41493362-0185-418c-f687-2566d3230963",
        "colab": {
          "base_uri": "https://localhost:8080/",
          "height": 586
        }
      },
      "source": [
        "# Geração de dataset DuvidasDB, selecionando registros que apresentem perguntas na coluna 'texto', a qual refere-se ao tuíte escrito pelo usuário\n",
        "# Foi considerado como uma pergunta um texto que contenha os seguintes termos: '?', 'saber', 'conhece'\n",
        "\n",
        "# Teste inicial\n",
        "# duvidas_db = raw_data.query('texto.str.contains(\"\\?\")', engine='python')\n",
        "duvidas_db = raw_data.set_index('texto').filter(regex='\\?|saber|conhece', axis=0)\n",
        "duvidas_db.reset_index(inplace=True)\n",
        "duvidas_db"
      ],
      "execution_count": null,
      "outputs": [
        {
          "output_type": "execute_result",
          "data": {
            "text/html": [
              "<div>\n",
              "<style scoped>\n",
              "    .dataframe tbody tr th:only-of-type {\n",
              "        vertical-align: middle;\n",
              "    }\n",
              "\n",
              "    .dataframe tbody tr th {\n",
              "        vertical-align: top;\n",
              "    }\n",
              "\n",
              "    .dataframe thead th {\n",
              "        text-align: right;\n",
              "    }\n",
              "</style>\n",
              "<table border=\"1\" class=\"dataframe\">\n",
              "  <thead>\n",
              "    <tr style=\"text-align: right;\">\n",
              "      <th></th>\n",
              "      <th>texto</th>\n",
              "      <th>data</th>\n",
              "      <th>usuario</th>\n",
              "      <th>apelido</th>\n",
              "      <th>retweet</th>\n",
              "      <th>seguidores</th>\n",
              "      <th>idioma</th>\n",
              "      <th>lugar</th>\n",
              "      <th>pais</th>\n",
              "      <th>sigla</th>\n",
              "      <th>latitude</th>\n",
              "      <th>longitude</th>\n",
              "      <th>hashtags</th>\n",
              "    </tr>\n",
              "  </thead>\n",
              "  <tbody>\n",
              "    <tr>\n",
              "      <th>0</th>\n",
              "      <td>@BolsonaroSP Cade o fundão deputado??? Congres...</td>\n",
              "      <td>2020-03-23 18:51:14</td>\n",
              "      <td>Gaboardi</td>\n",
              "      <td>fraslee</td>\n",
              "      <td>0</td>\n",
              "      <td>138</td>\n",
              "      <td>pt</td>\n",
              "      <td>NaN</td>\n",
              "      <td>NaN</td>\n",
              "      <td>NaN</td>\n",
              "      <td>NaN</td>\n",
              "      <td>NaN</td>\n",
              "      <td>[]</td>\n",
              "    </tr>\n",
              "    <tr>\n",
              "      <th>1</th>\n",
              "      <td>Fumaça de cigarro pode propagar coronavírus? h...</td>\n",
              "      <td>2020-04-01 21:11:07</td>\n",
              "      <td>🚩</td>\n",
              "      <td>santosodeto</td>\n",
              "      <td>0</td>\n",
              "      <td>1885</td>\n",
              "      <td>pt</td>\n",
              "      <td>NaN</td>\n",
              "      <td>NaN</td>\n",
              "      <td>NaN</td>\n",
              "      <td>NaN</td>\n",
              "      <td>NaN</td>\n",
              "      <td>[]</td>\n",
              "    </tr>\n",
              "    <tr>\n",
              "      <th>2</th>\n",
              "      <td>@ipratesMD @dr_pampers Será que corremos o ris...</td>\n",
              "      <td>2020-06-25 11:09:19</td>\n",
              "      <td>Andreia Peraro</td>\n",
              "      <td>AndreiaPeraro</td>\n",
              "      <td>0</td>\n",
              "      <td>86</td>\n",
              "      <td>pt</td>\n",
              "      <td>NaN</td>\n",
              "      <td>NaN</td>\n",
              "      <td>NaN</td>\n",
              "      <td>NaN</td>\n",
              "      <td>NaN</td>\n",
              "      <td>[]</td>\n",
              "    </tr>\n",
              "    <tr>\n",
              "      <th>3</th>\n",
              "      <td>Prioridade ?!\\n\\n #COVID19 #floripa #isolament...</td>\n",
              "      <td>2020-04-06 15:44:36</td>\n",
              "      <td>Diorgenes Pandini</td>\n",
              "      <td>diorpandini</td>\n",
              "      <td>0</td>\n",
              "      <td>219</td>\n",
              "      <td>pt</td>\n",
              "      <td>NaN</td>\n",
              "      <td>NaN</td>\n",
              "      <td>NaN</td>\n",
              "      <td>NaN</td>\n",
              "      <td>NaN</td>\n",
              "      <td>['COVID19', 'floripa', 'isolamento']</td>\n",
              "    </tr>\n",
              "    <tr>\n",
              "      <th>4</th>\n",
              "      <td>Que tal uma notícia boa, indo na contramão do ...</td>\n",
              "      <td>2020-03-30 00:43:36</td>\n",
              "      <td>Valnei do Val</td>\n",
              "      <td>vdoval</td>\n",
              "      <td>0</td>\n",
              "      <td>201</td>\n",
              "      <td>pt</td>\n",
              "      <td>NaN</td>\n",
              "      <td>NaN</td>\n",
              "      <td>NaN</td>\n",
              "      <td>NaN</td>\n",
              "      <td>NaN</td>\n",
              "      <td>[]</td>\n",
              "    </tr>\n",
              "    <tr>\n",
              "      <th>...</th>\n",
              "      <td>...</td>\n",
              "      <td>...</td>\n",
              "      <td>...</td>\n",
              "      <td>...</td>\n",
              "      <td>...</td>\n",
              "      <td>...</td>\n",
              "      <td>...</td>\n",
              "      <td>...</td>\n",
              "      <td>...</td>\n",
              "      <td>...</td>\n",
              "      <td>...</td>\n",
              "      <td>...</td>\n",
              "      <td>...</td>\n",
              "    </tr>\n",
              "    <tr>\n",
              "      <th>184437</th>\n",
              "      <td>E ai quem são vcs durante a quarentena? \\n\\nEu...</td>\n",
              "      <td>2020-03-24 23:50:14</td>\n",
              "      <td>solineuza da diarista</td>\n",
              "      <td>gtstayhigh</td>\n",
              "      <td>0</td>\n",
              "      <td>1329</td>\n",
              "      <td>pt</td>\n",
              "      <td>NaN</td>\n",
              "      <td>NaN</td>\n",
              "      <td>NaN</td>\n",
              "      <td>NaN</td>\n",
              "      <td>NaN</td>\n",
              "      <td>[]</td>\n",
              "    </tr>\n",
              "    <tr>\n",
              "      <th>184438</th>\n",
              "      <td>@0n3p1ece @alexmono Oh jumentinha, 1918 é isso...</td>\n",
              "      <td>2020-03-26 21:43:24</td>\n",
              "      <td>Chris CP</td>\n",
              "      <td>Chris_CP_</td>\n",
              "      <td>0</td>\n",
              "      <td>34</td>\n",
              "      <td>pt</td>\n",
              "      <td>NaN</td>\n",
              "      <td>NaN</td>\n",
              "      <td>NaN</td>\n",
              "      <td>NaN</td>\n",
              "      <td>NaN</td>\n",
              "      <td>[]</td>\n",
              "    </tr>\n",
              "    <tr>\n",
              "      <th>184439</th>\n",
              "      <td>@BiologiaBraba @Tati_Cordeiro Só vontade ou vo...</td>\n",
              "      <td>2020-05-25 22:53:13</td>\n",
              "      <td>O que houve com a couve?</td>\n",
              "      <td>couveluiza</td>\n",
              "      <td>0</td>\n",
              "      <td>1883</td>\n",
              "      <td>pt</td>\n",
              "      <td>NaN</td>\n",
              "      <td>NaN</td>\n",
              "      <td>NaN</td>\n",
              "      <td>NaN</td>\n",
              "      <td>NaN</td>\n",
              "      <td>[]</td>\n",
              "    </tr>\n",
              "    <tr>\n",
              "      <th>184440</th>\n",
              "      <td>oms: tamo tendo pandemia evitar\\n conglomerado...</td>\n",
              "      <td>2020-03-13 17:26:18</td>\n",
              "      <td>broca</td>\n",
              "      <td>whoisdrill</td>\n",
              "      <td>0</td>\n",
              "      <td>361</td>\n",
              "      <td>pt</td>\n",
              "      <td>NaN</td>\n",
              "      <td>NaN</td>\n",
              "      <td>NaN</td>\n",
              "      <td>NaN</td>\n",
              "      <td>NaN</td>\n",
              "      <td>[]</td>\n",
              "    </tr>\n",
              "    <tr>\n",
              "      <th>184441</th>\n",
              "      <td>@OsmarTerra Sr. Osmar Terra, gostaria de ouvir...</td>\n",
              "      <td>2020-05-12 13:02:34</td>\n",
              "      <td>Renato 🇧🇷</td>\n",
              "      <td>VerdadeExpress</td>\n",
              "      <td>0</td>\n",
              "      <td>4066</td>\n",
              "      <td>pt</td>\n",
              "      <td>NaN</td>\n",
              "      <td>NaN</td>\n",
              "      <td>NaN</td>\n",
              "      <td>NaN</td>\n",
              "      <td>NaN</td>\n",
              "      <td>[]</td>\n",
              "    </tr>\n",
              "  </tbody>\n",
              "</table>\n",
              "<p>184442 rows × 13 columns</p>\n",
              "</div>"
            ],
            "text/plain": [
              "                                                    texto  ...                              hashtags\n",
              "0       @BolsonaroSP Cade o fundão deputado??? Congres...  ...                                    []\n",
              "1       Fumaça de cigarro pode propagar coronavírus? h...  ...                                    []\n",
              "2       @ipratesMD @dr_pampers Será que corremos o ris...  ...                                    []\n",
              "3       Prioridade ?!\\n\\n #COVID19 #floripa #isolament...  ...  ['COVID19', 'floripa', 'isolamento']\n",
              "4       Que tal uma notícia boa, indo na contramão do ...  ...                                    []\n",
              "...                                                   ...  ...                                   ...\n",
              "184437  E ai quem são vcs durante a quarentena? \\n\\nEu...  ...                                    []\n",
              "184438  @0n3p1ece @alexmono Oh jumentinha, 1918 é isso...  ...                                    []\n",
              "184439  @BiologiaBraba @Tati_Cordeiro Só vontade ou vo...  ...                                    []\n",
              "184440  oms: tamo tendo pandemia evitar\\n conglomerado...  ...                                    []\n",
              "184441  @OsmarTerra Sr. Osmar Terra, gostaria de ouvir...  ...                                    []\n",
              "\n",
              "[184442 rows x 13 columns]"
            ]
          },
          "metadata": {
            "tags": []
          },
          "execution_count": 91
        }
      ]
    },
    {
      "cell_type": "code",
      "metadata": {
        "id": "KabgdzkYarYP",
        "outputId": "602addc9-193c-4338-d7a7-bd4bcaf0514d",
        "colab": {
          "base_uri": "https://localhost:8080/",
          "height": 805
        }
      },
      "source": [
        "# import nltk.data\n",
        "# tokenizer = nltk.data.load('tokenizers/punkt/PY3/portuguese.pickle') \n",
        "# tokenizer.tokenize(text) \n",
        "\n",
        "# Extraindo somente as perguntas dentro do texto\n",
        "\n",
        "from nltk.tokenize import sent_tokenize\n",
        "from re import search\n",
        "\n",
        "duvidas_db['perguntas'] = duvidas_db['texto'].transform([lambda d: [(q) for q in sent_tokenize(d, language='portuguese') if search(\"[\\+?]\", q)]])\n",
        "duvidas_db\n"
      ],
      "execution_count": null,
      "outputs": [
        {
          "output_type": "execute_result",
          "data": {
            "text/html": [
              "<div>\n",
              "<style scoped>\n",
              "    .dataframe tbody tr th:only-of-type {\n",
              "        vertical-align: middle;\n",
              "    }\n",
              "\n",
              "    .dataframe tbody tr th {\n",
              "        vertical-align: top;\n",
              "    }\n",
              "\n",
              "    .dataframe thead th {\n",
              "        text-align: right;\n",
              "    }\n",
              "</style>\n",
              "<table border=\"1\" class=\"dataframe\">\n",
              "  <thead>\n",
              "    <tr style=\"text-align: right;\">\n",
              "      <th></th>\n",
              "      <th>texto</th>\n",
              "      <th>data</th>\n",
              "      <th>usuario</th>\n",
              "      <th>apelido</th>\n",
              "      <th>retweet</th>\n",
              "      <th>seguidores</th>\n",
              "      <th>idioma</th>\n",
              "      <th>lugar</th>\n",
              "      <th>pais</th>\n",
              "      <th>sigla</th>\n",
              "      <th>latitude</th>\n",
              "      <th>longitude</th>\n",
              "      <th>hashtags</th>\n",
              "      <th>perguntas</th>\n",
              "    </tr>\n",
              "  </thead>\n",
              "  <tbody>\n",
              "    <tr>\n",
              "      <th>0</th>\n",
              "      <td>@BolsonaroSP Cade o fundão deputado??? Congres...</td>\n",
              "      <td>2020-03-23 18:51:14</td>\n",
              "      <td>Gaboardi</td>\n",
              "      <td>fraslee</td>\n",
              "      <td>0</td>\n",
              "      <td>138</td>\n",
              "      <td>pt</td>\n",
              "      <td>NaN</td>\n",
              "      <td>NaN</td>\n",
              "      <td>NaN</td>\n",
              "      <td>NaN</td>\n",
              "      <td>NaN</td>\n",
              "      <td>[]</td>\n",
              "      <td>[@BolsonaroSP Cade o fundão deputado???]</td>\n",
              "    </tr>\n",
              "    <tr>\n",
              "      <th>1</th>\n",
              "      <td>Fumaça de cigarro pode propagar coronavírus? h...</td>\n",
              "      <td>2020-04-01 21:11:07</td>\n",
              "      <td>🚩</td>\n",
              "      <td>santosodeto</td>\n",
              "      <td>0</td>\n",
              "      <td>1885</td>\n",
              "      <td>pt</td>\n",
              "      <td>NaN</td>\n",
              "      <td>NaN</td>\n",
              "      <td>NaN</td>\n",
              "      <td>NaN</td>\n",
              "      <td>NaN</td>\n",
              "      <td>[]</td>\n",
              "      <td>[Fumaça de cigarro pode propagar coronavírus?]</td>\n",
              "    </tr>\n",
              "    <tr>\n",
              "      <th>2</th>\n",
              "      <td>@ipratesMD @dr_pampers Será que corremos o ris...</td>\n",
              "      <td>2020-06-25 11:09:19</td>\n",
              "      <td>Andreia Peraro</td>\n",
              "      <td>AndreiaPeraro</td>\n",
              "      <td>0</td>\n",
              "      <td>86</td>\n",
              "      <td>pt</td>\n",
              "      <td>NaN</td>\n",
              "      <td>NaN</td>\n",
              "      <td>NaN</td>\n",
              "      <td>NaN</td>\n",
              "      <td>NaN</td>\n",
              "      <td>[]</td>\n",
              "      <td>[@ipratesMD @dr_pampers Será que corremos o ri...</td>\n",
              "    </tr>\n",
              "    <tr>\n",
              "      <th>3</th>\n",
              "      <td>Prioridade ?!\\n\\n #COVID19 #floripa #isolament...</td>\n",
              "      <td>2020-04-06 15:44:36</td>\n",
              "      <td>Diorgenes Pandini</td>\n",
              "      <td>diorpandini</td>\n",
              "      <td>0</td>\n",
              "      <td>219</td>\n",
              "      <td>pt</td>\n",
              "      <td>NaN</td>\n",
              "      <td>NaN</td>\n",
              "      <td>NaN</td>\n",
              "      <td>NaN</td>\n",
              "      <td>NaN</td>\n",
              "      <td>['COVID19', 'floripa', 'isolamento']</td>\n",
              "      <td>[Prioridade ?!]</td>\n",
              "    </tr>\n",
              "    <tr>\n",
              "      <th>4</th>\n",
              "      <td>Que tal uma notícia boa, indo na contramão do ...</td>\n",
              "      <td>2020-03-30 00:43:36</td>\n",
              "      <td>Valnei do Val</td>\n",
              "      <td>vdoval</td>\n",
              "      <td>0</td>\n",
              "      <td>201</td>\n",
              "      <td>pt</td>\n",
              "      <td>NaN</td>\n",
              "      <td>NaN</td>\n",
              "      <td>NaN</td>\n",
              "      <td>NaN</td>\n",
              "      <td>NaN</td>\n",
              "      <td>[]</td>\n",
              "      <td>[Que tal uma notícia boa, indo na contramão do...</td>\n",
              "    </tr>\n",
              "    <tr>\n",
              "      <th>...</th>\n",
              "      <td>...</td>\n",
              "      <td>...</td>\n",
              "      <td>...</td>\n",
              "      <td>...</td>\n",
              "      <td>...</td>\n",
              "      <td>...</td>\n",
              "      <td>...</td>\n",
              "      <td>...</td>\n",
              "      <td>...</td>\n",
              "      <td>...</td>\n",
              "      <td>...</td>\n",
              "      <td>...</td>\n",
              "      <td>...</td>\n",
              "      <td>...</td>\n",
              "    </tr>\n",
              "    <tr>\n",
              "      <th>184437</th>\n",
              "      <td>E ai quem são vcs durante a quarentena? \\n\\nEu...</td>\n",
              "      <td>2020-03-24 23:50:14</td>\n",
              "      <td>solineuza da diarista</td>\n",
              "      <td>gtstayhigh</td>\n",
              "      <td>0</td>\n",
              "      <td>1329</td>\n",
              "      <td>pt</td>\n",
              "      <td>NaN</td>\n",
              "      <td>NaN</td>\n",
              "      <td>NaN</td>\n",
              "      <td>NaN</td>\n",
              "      <td>NaN</td>\n",
              "      <td>[]</td>\n",
              "      <td>[E ai quem são vcs durante a quarentena?]</td>\n",
              "    </tr>\n",
              "    <tr>\n",
              "      <th>184438</th>\n",
              "      <td>@0n3p1ece @alexmono Oh jumentinha, 1918 é isso...</td>\n",
              "      <td>2020-03-26 21:43:24</td>\n",
              "      <td>Chris CP</td>\n",
              "      <td>Chris_CP_</td>\n",
              "      <td>0</td>\n",
              "      <td>34</td>\n",
              "      <td>pt</td>\n",
              "      <td>NaN</td>\n",
              "      <td>NaN</td>\n",
              "      <td>NaN</td>\n",
              "      <td>NaN</td>\n",
              "      <td>NaN</td>\n",
              "      <td>[]</td>\n",
              "      <td>[@0n3p1ece @alexmono Oh jumentinha, 1918 é iss...</td>\n",
              "    </tr>\n",
              "    <tr>\n",
              "      <th>184439</th>\n",
              "      <td>@BiologiaBraba @Tati_Cordeiro Só vontade ou vo...</td>\n",
              "      <td>2020-05-25 22:53:13</td>\n",
              "      <td>O que houve com a couve?</td>\n",
              "      <td>couveluiza</td>\n",
              "      <td>0</td>\n",
              "      <td>1883</td>\n",
              "      <td>pt</td>\n",
              "      <td>NaN</td>\n",
              "      <td>NaN</td>\n",
              "      <td>NaN</td>\n",
              "      <td>NaN</td>\n",
              "      <td>NaN</td>\n",
              "      <td>[]</td>\n",
              "      <td>[@BiologiaBraba @Tati_Cordeiro Só vontade ou v...</td>\n",
              "    </tr>\n",
              "    <tr>\n",
              "      <th>184440</th>\n",
              "      <td>oms: tamo tendo pandemia evitar\\n conglomerado...</td>\n",
              "      <td>2020-03-13 17:26:18</td>\n",
              "      <td>broca</td>\n",
              "      <td>whoisdrill</td>\n",
              "      <td>0</td>\n",
              "      <td>361</td>\n",
              "      <td>pt</td>\n",
              "      <td>NaN</td>\n",
              "      <td>NaN</td>\n",
              "      <td>NaN</td>\n",
              "      <td>NaN</td>\n",
              "      <td>NaN</td>\n",
              "      <td>[]</td>\n",
              "      <td>[oms: tamo tendo pandemia evitar\\n conglomerad...</td>\n",
              "    </tr>\n",
              "    <tr>\n",
              "      <th>184441</th>\n",
              "      <td>@OsmarTerra Sr. Osmar Terra, gostaria de ouvir...</td>\n",
              "      <td>2020-05-12 13:02:34</td>\n",
              "      <td>Renato 🇧🇷</td>\n",
              "      <td>VerdadeExpress</td>\n",
              "      <td>0</td>\n",
              "      <td>4066</td>\n",
              "      <td>pt</td>\n",
              "      <td>NaN</td>\n",
              "      <td>NaN</td>\n",
              "      <td>NaN</td>\n",
              "      <td>NaN</td>\n",
              "      <td>NaN</td>\n",
              "      <td>[]</td>\n",
              "      <td>[@OsmarTerra Sr. Osmar Terra, gostaria de ouvi...</td>\n",
              "    </tr>\n",
              "  </tbody>\n",
              "</table>\n",
              "<p>184442 rows × 14 columns</p>\n",
              "</div>"
            ],
            "text/plain": [
              "                                                    texto  ...                                          perguntas\n",
              "0       @BolsonaroSP Cade o fundão deputado??? Congres...  ...           [@BolsonaroSP Cade o fundão deputado???]\n",
              "1       Fumaça de cigarro pode propagar coronavírus? h...  ...     [Fumaça de cigarro pode propagar coronavírus?]\n",
              "2       @ipratesMD @dr_pampers Será que corremos o ris...  ...  [@ipratesMD @dr_pampers Será que corremos o ri...\n",
              "3       Prioridade ?!\\n\\n #COVID19 #floripa #isolament...  ...                                    [Prioridade ?!]\n",
              "4       Que tal uma notícia boa, indo na contramão do ...  ...  [Que tal uma notícia boa, indo na contramão do...\n",
              "...                                                   ...  ...                                                ...\n",
              "184437  E ai quem são vcs durante a quarentena? \\n\\nEu...  ...          [E ai quem são vcs durante a quarentena?]\n",
              "184438  @0n3p1ece @alexmono Oh jumentinha, 1918 é isso...  ...  [@0n3p1ece @alexmono Oh jumentinha, 1918 é iss...\n",
              "184439  @BiologiaBraba @Tati_Cordeiro Só vontade ou vo...  ...  [@BiologiaBraba @Tati_Cordeiro Só vontade ou v...\n",
              "184440  oms: tamo tendo pandemia evitar\\n conglomerado...  ...  [oms: tamo tendo pandemia evitar\\n conglomerad...\n",
              "184441  @OsmarTerra Sr. Osmar Terra, gostaria de ouvir...  ...  [@OsmarTerra Sr. Osmar Terra, gostaria de ouvi...\n",
              "\n",
              "[184442 rows x 14 columns]"
            ]
          },
          "metadata": {
            "tags": []
          },
          "execution_count": 95
        }
      ]
    }
  ]
}